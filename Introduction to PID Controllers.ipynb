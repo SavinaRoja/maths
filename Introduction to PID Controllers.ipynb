{
 "metadata": {
  "name": ""
 },
 "nbformat": 3,
 "nbformat_minor": 0,
 "worksheets": [
  {
   "cells": [
    {
     "cell_type": "code",
     "collapsed": false,
     "input": [
      "%pylab inline\n",
      "import time\n",
      "plt.rc('figure', figsize=(10, 8))"
     ],
     "language": "python",
     "metadata": {},
     "outputs": []
    },
    {
     "cell_type": "heading",
     "level": 2,
     "metadata": {},
     "source": [
      "Introduction to PID Controllers"
     ]
    },
    {
     "cell_type": "markdown",
     "metadata": {},
     "source": [
      "Here's the basic PID equation:\n",
      "\n",
      "$u(t) = K_{P} \\cdot e(t) + K_{I} \\cdot \\int e(t)dt + K_{D} \\cdot \\frac{d}{dt} e(t)$\n",
      "\n",
      "where $u(t)$ is the output of the PID controller, $e(t)$ is the *error*, which is defined as the separation between the *input* and the *setpoint* or *reference* ($e(t) = \\text{input} - \\text{setpoint}$)"
     ]
    },
    {
     "cell_type": "code",
     "collapsed": false,
     "input": [
      "#So here's a basic python PID controller implementation\n",
      "class PIDController(object):\n",
      "    \"\"\"\n",
      "    A basic, \"naive\" PID controller.\n",
      "    \n",
      "    Pass PID tunings in during instantiation using kp, ki, and kd, or\n",
      "    use PIDController.retune()\n",
      "    \n",
      "    \"\"\"\n",
      "    def __init__(self, kp=1.0, ki=1.0, kd=1.0, setpoint=1.0):\n",
      "        #Tunings for the PID controller scaling\n",
      "        self.kp, self.ki, self.kd = kp, ki, kd\n",
      "        self.setpoint = 1.0  # The system's defined reference\n",
      "        self.err_sum = 0.0  # Our integral approximation\n",
      "        self.latest_err = 0.0  # Used for the derivative approximation\n",
      "        self.latest_time = None  # So we know it still needs to be set\n",
      "        #self.update = self.first_update\n",
      "\n",
      "    #def first_update(self, sinput):\n",
      "    #    self.latest_time = time.time()\n",
      "    #    self.update = self._update\n",
      "    #    return 0.0\n",
      "        \n",
      "    def update(self, sinput):\n",
      "        \"\"\"\n",
      "        \n",
      "        \"\"\"\n",
      "        #If this is the first input, just set the time and return 0\n",
      "        #Think of creative ways to avoid having to do this more than once\n",
      "        if self.latest_time is None:\n",
      "            self.latest_time = time.time()\n",
      "            return 0.0\n",
      "        \n",
      "        #Get our time delta and update the latest time\n",
      "        new_time = time.time()\n",
      "        time_del = new_time - self.latest_time\n",
      "        \n",
      "        #Calculate some of our needed error values\n",
      "        err = self.setpoint - sinput\n",
      "        self.err_sum += err\n",
      "        d_err = (err - self.latest_err) / time_del\n",
      "        \n",
      "        #Calculate the output\n",
      "        output = self.kp * err + self.ki * self.err_sum + self.kd * d_err\n",
      "        #output = self.kp * err + self.ki * self.err_sum\n",
      "        \n",
      "        #Save the values for error and time\n",
      "        self.latest_time = new_time\n",
      "        self.latest_err = err\n",
      "        \n",
      "        return output\n",
      "\n",
      "    def retune(self, kp=None, ki=None, kd=None):\n",
      "        \"\"\"\n",
      "        Pass values in for keyword arguments kp, ki, and kd to reset\n",
      "        their values in the PIDController. They will be coerced to\n",
      "        floats automatically.\n",
      "        \"\"\"\n",
      "        if kp is not None:\n",
      "            self.kp = float(kp)\n",
      "        if ki is not None:\n",
      "            self.ki = float(ki)\n",
      "        if kd is not None:\n",
      "            self.kd = float(kd)"
     ],
     "language": "python",
     "metadata": {},
     "outputs": []
    },
    {
     "cell_type": "code",
     "collapsed": false,
     "input": [
      "#pid = PIDController(kp=0.5, ki = 0.0, kd=0.0)  # P\n",
      "#pid = PIDController(kp=1.5, ki = 0.0, kd=0.0)  # P\n",
      "#pid = PIDController(kp=2.1, ki = 0.0, kd=0.0)  # P\n",
      "#pid = PIDController(kp=0.5, ki = 0.1, kd=0.0)  # PI\n",
      "pid = PIDController(kp=0.5, ki = 0.2, kd=0.0000001)  # PID\n",
      "state = 1.0\n",
      "system_states = []\n",
      "for i in range(10):\n",
      "    state = pid.update(state) + state - 1\n",
      "    system_states.append(state)\n",
      "pid.setpoint = 10.0\n",
      "for i in range(50):\n",
      "    state = pid.update(state) + state - 1\n",
      "    system_states.append(state)\n",
      "pid.setpoint = 5.0\n",
      "for i in range(50):\n",
      "    state = pid.update(state) + state - 1\n",
      "    system_states.append(state)\n",
      "    \n",
      "ticks = np.arange(110)\n",
      "setpoint = np.array([1.0] * 10 + [10.0] * 50 + [5]*50, np.float)\n",
      "plt.plot(ticks, setpoint)\n",
      "plt.plot(ticks, np.array(system_states))\n",
      "#plt.ylim(9,11)"
     ],
     "language": "python",
     "metadata": {},
     "outputs": []
    },
    {
     "cell_type": "code",
     "collapsed": false,
     "input": [
      "#pid = PIDController(kp=0.5, ki = 0.0, kd=0.0)  # P\n",
      "#pid = PIDController(kp=1.5, ki = 0.0, kd=0.0)  # P\n",
      "#pid = PIDController(kp=2.1, ki = 0.0, kd=0.0)  # P\n",
      "#pid = PIDController(kp=0.5, ki = 0.1, kd=0.0)  # PI\n",
      "pid = PIDController(kp=0.5, ki = 0.2, kd=0.0000001)  # PID\n",
      "state = 1.0\n",
      "system_states = []\n",
      "for i in range(100):\n",
      "    pid.setpoint += 0.1\n",
      "    state = pid.update(state) + state - 1\n",
      "    system_states.append(state)\n",
      "    \n",
      "ticks = np.arange(100)\n",
      "setpoint = np.linspace(1.0, 10.9, 100)\n",
      "plt.plot(ticks, setpoint)\n",
      "plt.plot(ticks, np.array(system_states))\n",
      "#plt.ylim(9,11)"
     ],
     "language": "python",
     "metadata": {},
     "outputs": []
    },
    {
     "cell_type": "code",
     "collapsed": false,
     "input": [],
     "language": "python",
     "metadata": {},
     "outputs": []
    }
   ],
   "metadata": {}
  }
 ]
}