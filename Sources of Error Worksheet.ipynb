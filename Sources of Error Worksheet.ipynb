{
 "metadata": {
  "name": ""
 },
 "nbformat": 3,
 "nbformat_minor": 0,
 "worksheets": [
  {
   "cells": [
    {
     "cell_type": "heading",
     "level": 2,
     "metadata": {},
     "source": [
      "2.10 Exercises"
     ]
    },
    {
     "cell_type": "markdown",
     "metadata": {},
     "source": [
      "1) It is common to think of $\\pi^{2} = 9.87$ as approximately ten. What are the absolute and relative errors in this approximation?"
     ]
    },
    {
     "cell_type": "markdown",
     "metadata": {},
     "source": [
      "Let's refer to equation 2.1. Absolute error, $e$ is given by $e = \\hat{A} - A$ and relative error, $\\epsilon$, is given by $\\epsilon = \\frac{\\hat{A}}{A} - 1$."
     ]
    },
    {
     "cell_type": "code",
     "collapsed": false,
     "input": [
      "#As the first code cell in this notebook, let's do some importing\n",
      "from IPython.display import display\n",
      "\n",
      "from sympy import *\n",
      "init_printing()"
     ],
     "language": "python",
     "metadata": {},
     "outputs": []
    },
    {
     "cell_type": "code",
     "collapsed": false,
     "input": [
      "#Defining our variables for SymPy expressions\n",
      "true_a, approx_a = symbols('A \\hat{A}')\n",
      "abs_err, relative_err = symbols('e \\epsilon')"
     ],
     "language": "python",
     "metadata": {},
     "outputs": []
    },
    {
     "cell_type": "code",
     "collapsed": false,
     "input": [
      "#Let's solve for our absolute error\n",
      "abs_eq = Eq(approx_a - true_a, abs_err)\n",
      "display(abs_eq)\n",
      "display(abs_eq.subs(true_a, pi**2).subs(approx_a, 10))\n",
      "abs_eq.subs(true_a, pi**2).subs(approx_a, 10).evalf()"
     ],
     "language": "python",
     "metadata": {},
     "outputs": []
    },
    {
     "cell_type": "code",
     "collapsed": false,
     "input": [
      "#Let's solve for our relative error\n",
      "rel_eq = Eq(approx_a / true_a - 1, relative_err)\n",
      "display(rel_eq)\n",
      "display(rel_eq.subs(true_a, pi**2).subs(approx_a, 10))\n",
      "rel_eq.subs(true_a, pi**2).subs(approx_a, 10).evalf()"
     ],
     "language": "python",
     "metadata": {},
     "outputs": []
    },
    {
     "cell_type": "markdown",
     "metadata": {},
     "source": [
      "2) If `x` and `y` have type `double`, and `( ( x - y ) >= 10 )` evaluates to TRUE, does that mean that `y` is not a good approximation to `x` in the sense of relative error?"
     ]
    },
    {
     "cell_type": "markdown",
     "metadata": {},
     "source": [
      "In the sense of relative error, there is not enough information to know whether 10 is a significant deviation between `x` and `y`. 10 units may be a large deviation if `x` is on a similar order of magnitude or smaller, or it may be trifling if `x` is some orders of magnitude larger."
     ]
    },
    {
     "cell_type": "markdown",
     "metadata": {},
     "source": [
      "3) Show that $f_{jk} = sin(x_{0} + (j-k) \\pi / 3)$ satisfies the recurrence relation\n",
      "\n",
      "$f_{j, k+1} = f_{j,k} - f_{j+1, k}$ (2.12)\n",
      "\n",
      "We view this as a formula that computes the $f$ values on level $k + 1$ from the $f$ values on level $k$. Let $\\widehat{f}_{jk}$ for $k \u2265 0$ be the floating point numbers that come from implementing $f_{j0} = sin(x_{0} + j \\pi / 3)$ and (2.12) (for $k > 0$) in double precision floating point. If $|{f_{jk} \u2212 f_{jk}}| \u2264 \\epsilon$ for all $j$, show that\n",
      "$|\\widehat{f}_{j,k+1} \u2212 f_{j,k+1}| \u2264 2\\epsilon$ for all $j$. Thus, if the level $k$ values are very accurate,\n",
      "then the level $k + 1$ values still are pretty good. Write a program (C/C++ or Matlab) that computes $e_{k} = \\widehat{f}_{0k} \u2212 f_{0k}$ for $1 \u2264 k \u2264 60$ and $x0 = 1$. Note that $f_{0n}$ , a single number on level $n$, depends on $f_{0,n\u22121}$ and $f_{1,n\u22121}$ , two numbers on level $n \u2212 1$, and so on down to $n$ numbers on level $0$. Print the $e_{k}$ and see whether they grow\n",
      "monotonically. Plot the $e_{k}$ on a linear scale and see that the numbers seem to go bad suddenly at around $k = 50$. Plot the $e_{k}$ on a log scale. For comparison, include a straight line that would represent the error if it were exactly to double each time.\n"
     ]
    },
    {
     "cell_type": "code",
     "collapsed": false,
     "input": [
      "x0, j, k = symbols(\"x_{0} j, k\")\n",
      "fjk = sin(x0 + (j - k) * pi/3)\n",
      "fjk"
     ],
     "language": "python",
     "metadata": {},
     "outputs": []
    },
    {
     "cell_type": "code",
     "collapsed": false,
     "input": [
      "#In order to show the recurrence relation, let's form fjk1 and fj1k\n",
      "fjk1 = fjk.subs(k, (k+1))\n",
      "fj1k = fjk.subs(j, (j+1))\n",
      "fjk1, fj1k"
     ],
     "language": "python",
     "metadata": {},
     "outputs": []
    },
    {
     "cell_type": "code",
     "collapsed": false,
     "input": [
      "(fjk - fj1k).simplify()"
     ],
     "language": "python",
     "metadata": {},
     "outputs": []
    },
    {
     "cell_type": "code",
     "collapsed": false,
     "input": [
      "#The rudimentary test for equality: if a = b, then a - b = 0\n",
      "((fjk - fj1k) - fjk1).simplify()"
     ],
     "language": "python",
     "metadata": {},
     "outputs": []
    },
    {
     "cell_type": "code",
     "collapsed": false,
     "input": [
      "#also can do this\n",
      "(fjk - fj1k).equals(fjk1)"
     ],
     "language": "python",
     "metadata": {},
     "outputs": []
    },
    {
     "cell_type": "code",
     "collapsed": false,
     "input": [],
     "language": "python",
     "metadata": {},
     "outputs": []
    },
    {
     "cell_type": "code",
     "collapsed": false,
     "input": [
      "#The next job is to determine how error propagates in the floating point calculations\n",
      "#We can do this by implementing the iterative recurrence relation and comparing the\n",
      "#results to values calculated directly rather than by the recurrence\n",
      "from "
     ],
     "language": "python",
     "metadata": {},
     "outputs": []
    }
   ],
   "metadata": {}
  }
 ]
}