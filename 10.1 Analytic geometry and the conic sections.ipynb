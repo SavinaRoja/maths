{
 "metadata": {
  "name": ""
 },
 "nbformat": 3,
 "nbformat_minor": 0,
 "worksheets": [
  {
   "cells": [
    {
     "cell_type": "code",
     "collapsed": false,
     "input": [
      "%matplotlib inline\n",
      "\n",
      "#As the first code cell in this notebook, let's do some importing\n",
      "from IPython.display import display\n",
      "#import numpy as np\n",
      "#import scipy as sp\n",
      "from sympy import *\n",
      "#from sympy.utilities.lambdify import lambdify\n",
      "import matplotlib.pyplot as plt\n",
      "\n",
      "init_printing()"
     ],
     "language": "python",
     "metadata": {},
     "outputs": [],
     "prompt_number": 1
    },
    {
     "cell_type": "markdown",
     "metadata": {},
     "source": [
      "**Plane analytic geometry**, a central topic of this chapter, is the use of algebra and calculs to study the properties of curves in the $xy$-plane. the ancient Greeks used deductive reasoning and the methods of axiomatic Euclidean geometry to study lines, circles, and the **conic sections** (parabolas, ellipses, and hyperbolas). The properties of conic sections have played an important role in diverse scientific applications since the seventeenth century, when Kepler discovered$-$and Newton explained$-$the fact that the orbits of planets and other bodies in the Solar System are conic sections."
     ]
    },
    {
     "cell_type": "markdown",
     "metadata": {},
     "source": [
      "The French mathematicians Descartes and Fermat, working almost independently of one another, initiated analytic geometry in 1637. The central idea of analytic geometry is the correspondence between an equation $F(x,y) = 0$ and its **locus** (typically, a curve), the set of all those points $(x, y)$ in the plane with coordinates that satisfy this equation."
     ]
    },
    {
     "cell_type": "markdown",
     "metadata": {},
     "source": [
      "A central idea of analytic geometry is this: Given a geometric locus or curve, its properties can be derived algebraically or analytically from its defining equation $F(x,y) = 0$. For example, suppose that the equation of a given curve turns out to be the linear equation\n",
      "\n",
      "$Ax + By = C$ , $\\hspace{2em}$ **(1)**"
     ]
    },
    {
     "cell_type": "code",
     "collapsed": false,
     "input": [
      "A, x, B, y, C = symbols('A x B y C')\n",
      "\n",
      "eq1 = Eq(A * x + B * y, C)\n",
      "display(eq1)"
     ],
     "language": "python",
     "metadata": {},
     "outputs": [
      {
       "latex": [
        "$$A x + B y = C$$"
       ],
       "metadata": {},
       "output_type": "display_data",
       "png": "[encoded data removed]",
       "text": [
        "A\u22c5x + B\u22c5y = C"
       ]
      }
     ],
     "prompt_number": 2
    },
    {
     "cell_type": "markdown",
     "metadata": {},
     "source": [
      "where $A$, $B$, and $C$ are constants with $B \\neq 0$. This equation may be written in the form\n",
      "\n",
      "$y = mx + b$ , $\\hspace{2em}$ **(2)**"
     ]
    },
    {
     "cell_type": "code",
     "collapsed": false,
     "input": [
      "m, b = symbols('m b')\n",
      "eq2 = Eq(y, m * x + b)\n",
      "display(eq2)"
     ],
     "language": "python",
     "metadata": {},
     "outputs": [
      {
       "latex": [
        "$$y = b + m x$$"
       ],
       "metadata": {},
       "output_type": "display_data",
       "png": "[encoded data removed]",
       "text": [
        "y = b + m\u22c5x"
       ]
      }
     ],
     "prompt_number": 3
    },
    {
     "cell_type": "code",
     "collapsed": false,
     "input": [
      "expr = Eq((eq1.lhs - A*x)/B, (eq1.rhs - A*x)/B)"
     ],
     "language": "python",
     "metadata": {},
     "outputs": [],
     "prompt_number": 22
    },
    {
     "cell_type": "code",
     "collapsed": false,
     "input": [
      "expr"
     ],
     "language": "python",
     "metadata": {},
     "outputs": [
      {
       "latex": [
        "$$y = \\frac{1}{B} \\left(- A x + C\\right)$$"
       ],
       "metadata": {},
       "output_type": "pyout",
       "png": "[encoded data removed]",
       "prompt_number": 23,
       "text": [
        "    -A\u22c5x + C\n",
        "y = \u2500\u2500\u2500\u2500\u2500\u2500\u2500\u2500\n",
        "       B    "
       ]
      }
     ],
     "prompt_number": 23
    },
    {
     "cell_type": "code",
     "collapsed": false,
     "input": [
      "expr.expand()"
     ],
     "language": "python",
     "metadata": {},
     "outputs": [
      {
       "latex": [
        "$$y = - \\frac{A x}{B} + \\frac{C}{B}$$"
       ],
       "metadata": {},
       "output_type": "pyout",
       "png": "[encoded data removed]",
       "prompt_number": 24,
       "text": [
        "      A\u22c5x   C\n",
        "y = - \u2500\u2500\u2500 + \u2500\n",
        "       B    B"
       ]
      }
     ],
     "prompt_number": 24
    },
    {
     "cell_type": "code",
     "collapsed": false,
     "input": [],
     "language": "python",
     "metadata": {},
     "outputs": []
    }
   ],
   "metadata": {}
  }
 ]
}